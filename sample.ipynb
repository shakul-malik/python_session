{
 "cells": [
  {
   "cell_type": "code",
   "execution_count": null,
   "id": "8d4d7416-9eef-4d82-84f1-fc69a3ef6672",
   "metadata": {},
   "outputs": [],
   "source": [
    "def filter_palindromes(words):\n",
    "    return list(filter(lambda x: x == x[::-1], words))\n",
    "\n",
    "# Example usage:\n",
    "words = [\"level\", \"python\", \"radar\", \"algorithm\", \"civic\"]\n",
    "result = filter_palindromes(words)\n",
    "print(result)\n",
    "# Expected Output: ['level', 'radar', 'civic']\n"
   ]
  }
 ],
 "metadata": {
  "kernelspec": {
   "display_name": "Python 3 (ipykernel)",
   "language": "python",
   "name": "python3"
  },
  "language_info": {
   "codemirror_mode": {
    "name": "ipython",
    "version": 3
   },
   "file_extension": ".py",
   "mimetype": "text/x-python",
   "name": "python",
   "nbconvert_exporter": "python",
   "pygments_lexer": "ipython3",
   "version": "3.12.1"
  }
 },
 "nbformat": 4,
 "nbformat_minor": 5
}
